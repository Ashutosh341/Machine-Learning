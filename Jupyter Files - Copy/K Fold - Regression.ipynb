{
 "cells": [
  {
   "cell_type": "code",
   "execution_count": 1,
   "id": "fdbcb582",
   "metadata": {},
   "outputs": [],
   "source": [
    "#Importing necessary libraries\n",
    "import pandas as pd\n",
    "import numpy as np\n",
    "\n",
    "from sklearn.linear_model import LinearRegression , Ridge , Lasso , ElasticNet\n",
    "from sklearn.gaussian_process import GaussianProcessRegressor\n",
    "from sklearn.tree import DecisionTreeRegressor\n",
    "from sklearn.ensemble import RandomForestRegressor\n",
    "from sklearn.neighbors import KNeighborsRegressor\n",
    "from sklearn.svm import SVR\n",
    "\n",
    "from sklearn.metrics import mean_squared_error ,r2_score\n",
    "#from sklearn.model_selection import train_test_split\n",
    "from sklearn.preprocessing import LabelEncoder\n",
    "\n",
    "from sklearn.model_selection import cross_val_score\n",
    "\n",
    "import warnings\n",
    "warnings.filterwarnings(\"ignore\")\n",
    "\n",
    "import seaborn as sns\n",
    "import matplotlib.pyplot as plt\n",
    "%matplotlib inline"
   ]
  },
  {
   "cell_type": "code",
   "execution_count": 2,
   "id": "373c30c5",
   "metadata": {},
   "outputs": [
    {
     "name": "stdout",
     "output_type": "stream",
     "text": [
      "Wall time: 33.2 ms\n"
     ]
    },
    {
     "data": {
      "text/html": [
       "<div>\n",
       "<style scoped>\n",
       "    .dataframe tbody tr th:only-of-type {\n",
       "        vertical-align: middle;\n",
       "    }\n",
       "\n",
       "    .dataframe tbody tr th {\n",
       "        vertical-align: top;\n",
       "    }\n",
       "\n",
       "    .dataframe thead th {\n",
       "        text-align: right;\n",
       "    }\n",
       "</style>\n",
       "<table border=\"1\" class=\"dataframe\">\n",
       "  <thead>\n",
       "    <tr style=\"text-align: right;\">\n",
       "      <th></th>\n",
       "      <th>region</th>\n",
       "      <th>price</th>\n",
       "      <th>type</th>\n",
       "      <th>sqfeet</th>\n",
       "      <th>smoking_allowed</th>\n",
       "      <th>wheelchair_access</th>\n",
       "      <th>electric_vehicle_charge</th>\n",
       "      <th>comes_furnished</th>\n",
       "      <th>laundry_options</th>\n",
       "      <th>parking_options</th>\n",
       "      <th>...</th>\n",
       "      <th>has_pool</th>\n",
       "      <th>has_grill</th>\n",
       "      <th>has_fireplace</th>\n",
       "      <th>gym_nearby</th>\n",
       "      <th>school/clg_nearby</th>\n",
       "      <th>wifi_facilities</th>\n",
       "      <th>valet_service</th>\n",
       "      <th>shopping_nearby</th>\n",
       "      <th>sports_playground</th>\n",
       "      <th>dining_nearby</th>\n",
       "    </tr>\n",
       "  </thead>\n",
       "  <tbody>\n",
       "    <tr>\n",
       "      <th>0</th>\n",
       "      <td>3.0</td>\n",
       "      <td>7.021084</td>\n",
       "      <td>3.0</td>\n",
       "      <td>7.184629</td>\n",
       "      <td>1.0</td>\n",
       "      <td>0.0</td>\n",
       "      <td>0.0</td>\n",
       "      <td>0.0</td>\n",
       "      <td>1.0</td>\n",
       "      <td>0.0</td>\n",
       "      <td>...</td>\n",
       "      <td>0.0</td>\n",
       "      <td>0.0</td>\n",
       "      <td>0.0</td>\n",
       "      <td>0.0</td>\n",
       "      <td>1.0</td>\n",
       "      <td>0.0</td>\n",
       "      <td>0.0</td>\n",
       "      <td>1.0</td>\n",
       "      <td>0.0</td>\n",
       "      <td>0.0</td>\n",
       "    </tr>\n",
       "    <tr>\n",
       "      <th>1</th>\n",
       "      <td>3.0</td>\n",
       "      <td>6.715383</td>\n",
       "      <td>3.0</td>\n",
       "      <td>7.032624</td>\n",
       "      <td>1.0</td>\n",
       "      <td>0.0</td>\n",
       "      <td>0.0</td>\n",
       "      <td>0.0</td>\n",
       "      <td>1.0</td>\n",
       "      <td>1.0</td>\n",
       "      <td>...</td>\n",
       "      <td>1.0</td>\n",
       "      <td>1.0</td>\n",
       "      <td>1.0</td>\n",
       "      <td>1.0</td>\n",
       "      <td>1.0</td>\n",
       "      <td>0.0</td>\n",
       "      <td>1.0</td>\n",
       "      <td>1.0</td>\n",
       "      <td>1.0</td>\n",
       "      <td>1.0</td>\n",
       "    </tr>\n",
       "    <tr>\n",
       "      <th>2</th>\n",
       "      <td>3.0</td>\n",
       "      <td>6.684612</td>\n",
       "      <td>3.0</td>\n",
       "      <td>6.831954</td>\n",
       "      <td>1.0</td>\n",
       "      <td>0.0</td>\n",
       "      <td>0.0</td>\n",
       "      <td>0.0</td>\n",
       "      <td>1.0</td>\n",
       "      <td>1.0</td>\n",
       "      <td>...</td>\n",
       "      <td>1.0</td>\n",
       "      <td>1.0</td>\n",
       "      <td>1.0</td>\n",
       "      <td>1.0</td>\n",
       "      <td>1.0</td>\n",
       "      <td>0.0</td>\n",
       "      <td>1.0</td>\n",
       "      <td>1.0</td>\n",
       "      <td>1.0</td>\n",
       "      <td>1.0</td>\n",
       "    </tr>\n",
       "    <tr>\n",
       "      <th>3</th>\n",
       "      <td>3.0</td>\n",
       "      <td>6.665684</td>\n",
       "      <td>3.0</td>\n",
       "      <td>6.953684</td>\n",
       "      <td>1.0</td>\n",
       "      <td>0.0</td>\n",
       "      <td>0.0</td>\n",
       "      <td>0.0</td>\n",
       "      <td>1.0</td>\n",
       "      <td>1.0</td>\n",
       "      <td>...</td>\n",
       "      <td>1.0</td>\n",
       "      <td>1.0</td>\n",
       "      <td>1.0</td>\n",
       "      <td>1.0</td>\n",
       "      <td>1.0</td>\n",
       "      <td>0.0</td>\n",
       "      <td>1.0</td>\n",
       "      <td>1.0</td>\n",
       "      <td>1.0</td>\n",
       "      <td>1.0</td>\n",
       "    </tr>\n",
       "    <tr>\n",
       "      <th>4</th>\n",
       "      <td>3.0</td>\n",
       "      <td>6.802395</td>\n",
       "      <td>3.0</td>\n",
       "      <td>7.168580</td>\n",
       "      <td>1.0</td>\n",
       "      <td>0.0</td>\n",
       "      <td>0.0</td>\n",
       "      <td>0.0</td>\n",
       "      <td>1.0</td>\n",
       "      <td>1.0</td>\n",
       "      <td>...</td>\n",
       "      <td>1.0</td>\n",
       "      <td>1.0</td>\n",
       "      <td>1.0</td>\n",
       "      <td>0.0</td>\n",
       "      <td>1.0</td>\n",
       "      <td>0.0</td>\n",
       "      <td>1.0</td>\n",
       "      <td>1.0</td>\n",
       "      <td>1.0</td>\n",
       "      <td>1.0</td>\n",
       "    </tr>\n",
       "  </tbody>\n",
       "</table>\n",
       "<p>5 rows × 26 columns</p>\n",
       "</div>"
      ],
      "text/plain": [
       "   region     price  type    sqfeet  smoking_allowed  wheelchair_access  \\\n",
       "0     3.0  7.021084   3.0  7.184629              1.0                0.0   \n",
       "1     3.0  6.715383   3.0  7.032624              1.0                0.0   \n",
       "2     3.0  6.684612   3.0  6.831954              1.0                0.0   \n",
       "3     3.0  6.665684   3.0  6.953684              1.0                0.0   \n",
       "4     3.0  6.802395   3.0  7.168580              1.0                0.0   \n",
       "\n",
       "   electric_vehicle_charge  comes_furnished  laundry_options  parking_options  \\\n",
       "0                      0.0              0.0              1.0              0.0   \n",
       "1                      0.0              0.0              1.0              1.0   \n",
       "2                      0.0              0.0              1.0              1.0   \n",
       "3                      0.0              0.0              1.0              1.0   \n",
       "4                      0.0              0.0              1.0              1.0   \n",
       "\n",
       "   ...  has_pool  has_grill  has_fireplace  gym_nearby  school/clg_nearby  \\\n",
       "0  ...       0.0        0.0            0.0         0.0                1.0   \n",
       "1  ...       1.0        1.0            1.0         1.0                1.0   \n",
       "2  ...       1.0        1.0            1.0         1.0                1.0   \n",
       "3  ...       1.0        1.0            1.0         1.0                1.0   \n",
       "4  ...       1.0        1.0            1.0         0.0                1.0   \n",
       "\n",
       "   wifi_facilities  valet_service  shopping_nearby  sports_playground  \\\n",
       "0              0.0            0.0              1.0                0.0   \n",
       "1              0.0            1.0              1.0                1.0   \n",
       "2              0.0            1.0              1.0                1.0   \n",
       "3              0.0            1.0              1.0                1.0   \n",
       "4              0.0            1.0              1.0                1.0   \n",
       "\n",
       "   dining_nearby  \n",
       "0            0.0  \n",
       "1            1.0  \n",
       "2            1.0  \n",
       "3            1.0  \n",
       "4            1.0  \n",
       "\n",
       "[5 rows x 26 columns]"
      ]
     },
     "execution_count": 2,
     "metadata": {},
     "output_type": "execute_result"
    }
   ],
   "source": [
    "%%time\n",
    "df = pd.read_csv(\"data_cleaned.csv\",nrows=10000) # reading the file and printing the first 5 rows \n",
    "df.head()"
   ]
  },
  {
   "cell_type": "code",
   "execution_count": 3,
   "id": "69addf32",
   "metadata": {},
   "outputs": [
    {
     "data": {
      "text/plain": [
       "(10000, 26)"
      ]
     },
     "execution_count": 3,
     "metadata": {},
     "output_type": "execute_result"
    }
   ],
   "source": [
    "df.shape"
   ]
  },
  {
   "cell_type": "code",
   "execution_count": 4,
   "id": "147f9493",
   "metadata": {},
   "outputs": [
    {
     "name": "stdout",
     "output_type": "stream",
     "text": [
      "<class 'pandas.core.frame.DataFrame'>\n",
      "RangeIndex: 10000 entries, 0 to 9999\n",
      "Data columns (total 26 columns):\n",
      " #   Column                   Non-Null Count  Dtype  \n",
      "---  ------                   --------------  -----  \n",
      " 0   region                   10000 non-null  float64\n",
      " 1   price                    10000 non-null  float64\n",
      " 2   type                     10000 non-null  float64\n",
      " 3   sqfeet                   10000 non-null  float64\n",
      " 4   smoking_allowed          10000 non-null  float64\n",
      " 5   wheelchair_access        10000 non-null  float64\n",
      " 6   electric_vehicle_charge  10000 non-null  float64\n",
      " 7   comes_furnished          10000 non-null  float64\n",
      " 8   laundry_options          10000 non-null  float64\n",
      " 9   parking_options          10000 non-null  float64\n",
      " 10  lat                      10000 non-null  float64\n",
      " 11  long                     10000 non-null  float64\n",
      " 12  premium_house            10000 non-null  float64\n",
      " 13  pets_allowed             10000 non-null  float64\n",
      " 14  beds_per_sqfeet          10000 non-null  float64\n",
      " 15  baths_per_beds           10000 non-null  float64\n",
      " 16  has_pool                 10000 non-null  float64\n",
      " 17  has_grill                10000 non-null  float64\n",
      " 18  has_fireplace            10000 non-null  float64\n",
      " 19  gym_nearby               10000 non-null  float64\n",
      " 20  school/clg_nearby        10000 non-null  float64\n",
      " 21  wifi_facilities          10000 non-null  float64\n",
      " 22  valet_service            10000 non-null  float64\n",
      " 23  shopping_nearby          10000 non-null  float64\n",
      " 24  sports_playground        10000 non-null  float64\n",
      " 25  dining_nearby            10000 non-null  float64\n",
      "dtypes: float64(26)\n",
      "memory usage: 2.0 MB\n"
     ]
    }
   ],
   "source": [
    "df.info()  # Getting Basic information"
   ]
  },
  {
   "cell_type": "markdown",
   "id": "043202e6",
   "metadata": {},
   "source": [
    "#### Attempting Multiple Models"
   ]
  },
  {
   "cell_type": "code",
   "execution_count": 5,
   "id": "bd840187",
   "metadata": {},
   "outputs": [
    {
     "data": {
      "text/plain": [
       "(10000, 26)"
      ]
     },
     "execution_count": 5,
     "metadata": {},
     "output_type": "execute_result"
    }
   ],
   "source": [
    "df.shape"
   ]
  },
  {
   "cell_type": "code",
   "execution_count": 6,
   "id": "f30e7394",
   "metadata": {},
   "outputs": [
    {
     "name": "stdout",
     "output_type": "stream",
     "text": [
      "Wall time: 4.86 ms\n"
     ]
    }
   ],
   "source": [
    "%%time\n",
    "X = df.drop('price',axis=1)  #independent variables\n",
    "y = df['price']   # dependent variable-Price"
   ]
  },
  {
   "cell_type": "code",
   "execution_count": 7,
   "id": "9cff762c",
   "metadata": {},
   "outputs": [
    {
     "name": "stdout",
     "output_type": "stream",
     "text": [
      "(10000, 25)\n",
      "(10000,)\n"
     ]
    }
   ],
   "source": [
    "print(X.shape)\n",
    "print(y.shape)"
   ]
  },
  {
   "cell_type": "code",
   "execution_count": 8,
   "id": "02200789",
   "metadata": {},
   "outputs": [
    {
     "name": "stdout",
     "output_type": "stream",
     "text": [
      "VIF for predictor 0: 537.8456015652796\n",
      "VIF for predictor 1: 25.144207467741925\n",
      "VIF for predictor 2: 924.0650792932337\n",
      "VIF for predictor 3: 4.011735342294804\n",
      "VIF for predictor 4: 1.343775436516012\n",
      "VIF for predictor 5: 1.0340543616775209\n",
      "VIF for predictor 6: 1.15915679363737\n",
      "VIF for predictor 7: 10.264434811195676\n",
      "VIF for predictor 8: 1.7777884465184686\n",
      "VIF for predictor 9: 103.32906900757233\n",
      "VIF for predictor 10: 157.2157026824252\n",
      "VIF for predictor 11: 3.7316963913704675\n",
      "VIF for predictor 12: 5.742851886458786\n",
      "VIF for predictor 13: 943.5268460504867\n",
      "VIF for predictor 14: 4.768309470592075\n",
      "VIF for predictor 15: 4.1156034615918\n",
      "VIF for predictor 16: 1.5646932955433113\n",
      "VIF for predictor 17: 1.389312576765718\n",
      "VIF for predictor 18: 2.9997215188969233\n",
      "VIF for predictor 19: 1.5785728154274614\n",
      "VIF for predictor 20: 1.34057322409328\n",
      "VIF for predictor 21: 1.2213527011962133\n",
      "VIF for predictor 22: 2.3914548781972873\n",
      "VIF for predictor 23: 2.2432230968502456\n",
      "VIF for predictor 24: 2.036887229878906\n"
     ]
    }
   ],
   "source": [
    "#calculating multicollinearity for each variable\n",
    "from statsmodels.stats.outliers_influence import variance_inflation_factor \n",
    "\n",
    "# Compute the VIF for each predictor variable\n",
    "vif = [variance_inflation_factor(X, i) for i in range(X.shape[1])]\n",
    "\n",
    "# Print the VIF for each predictor variable\n",
    "for i, v in enumerate(vif):\n",
    "    print('VIF for predictor {}: {}'.format(i, v))"
   ]
  },
  {
   "cell_type": "code",
   "execution_count": 9,
   "id": "d9d217be",
   "metadata": {},
   "outputs": [
    {
     "name": "stdout",
     "output_type": "stream",
     "text": [
      "Wall time: 1.04 ms\n"
     ]
    },
    {
     "data": {
      "text/plain": [
       "[('LR', LinearRegression()),\n",
       " ('Ridge', Ridge(positive=True)),\n",
       " ('Lasso', Lasso(alpha=0.7, positive=True)),\n",
       " ('ElasticNet', ElasticNet(positive=True)),\n",
       " ('Gauss', GaussianProcessRegressor()),\n",
       " ('DT', DecisionTreeRegressor(max_features='auto', min_samples_split=5)),\n",
       " ('RF', RandomForestRegressor(n_estimators=200)),\n",
       " ('KNN', KNeighborsRegressor(n_neighbors=8)),\n",
       " ('SVR', SVR(C=3.0))]"
      ]
     },
     "execution_count": 9,
     "metadata": {},
     "output_type": "execute_result"
    }
   ],
   "source": [
    "%%time\n",
    "#creating objects of all required models and storing them in the list\n",
    "\n",
    "models=[]\n",
    "models.append(('LR',LinearRegression()))\n",
    "models.append(('Ridge',Ridge(alpha=1.0,positive=True)))\n",
    "models.append(('Lasso',Lasso(alpha=0.7,positive=True)))\n",
    "models.append(('ElasticNet',ElasticNet(positive=True)))\n",
    "models.append(('Gauss',GaussianProcessRegressor()))\n",
    "models.append(('DT',DecisionTreeRegressor(min_samples_split=5,max_features='auto')))\n",
    "models.append(('RF',RandomForestRegressor(n_estimators=200,max_features='auto')))\n",
    "models.append(('KNN',KNeighborsRegressor(n_neighbors=8)))\n",
    "models.append(('SVR',SVR(C=3.0)))\n",
    "\n",
    "\n",
    "models"
   ]
  },
  {
   "cell_type": "markdown",
   "id": "52055171",
   "metadata": {},
   "source": [
    "#### Using K-Fold Cross Validation"
   ]
  },
  {
   "cell_type": "code",
   "execution_count": 10,
   "id": "543ceae3",
   "metadata": {},
   "outputs": [
    {
     "name": "stdout",
     "output_type": "stream",
     "text": [
      "Wall time: 0 ns\n"
     ]
    }
   ],
   "source": [
    "%%time\n",
    "\n",
    "from sklearn.model_selection import KFold\n",
    "kfold = KFold(n_splits=10)   #Splitting the data into K fold and then testing it using k-1 folds"
   ]
  },
  {
   "cell_type": "code",
   "execution_count": null,
   "id": "18fe2fd9",
   "metadata": {},
   "outputs": [],
   "source": [
    "%%time\n",
    "results = []\n",
    "names = []\n",
    "scoring_method=['neg_mean_squared_error','r2'] #using negative mean squared error and r square to check residuals \n",
    "\n",
    "m_name=[]\n",
    "m_method=[]   # creating 3 empty lists to store name of the model , method name and its mean\n",
    "m_mean=[]\n",
    "\n",
    "for name,model in models:\n",
    "    for method in scoring_method: \n",
    "        cv_results = cross_val_score(model, X, y,  cv=kfold,scoring=method,n_jobs=-1)  \n",
    "        m_name.append(name)                                          # computing cross validation score for every model\n",
    "        m_method.append(method)\n",
    "        m_mean.append(cv_results.mean())\n",
    "        \n",
    "        #print(name,':',method,':',cv_results.mean())\n",
    "        \n",
    "        \n",
    "final_df=pd.DataFrame.from_dict({'Model-name':m_name,'Method':m_method,'Mean Value':m_mean})\n",
    "final_df\n"
   ]
  },
  {
   "cell_type": "code",
   "execution_count": null,
   "id": "0c2799e9",
   "metadata": {},
   "outputs": [],
   "source": [
    "# Create the pivot table\n",
    "piv = pd.pivot_table(data=final_df, index=final_df['Model-name'], columns=['Method'])\n",
    "\n",
    "# Reorder the levels of the index\n",
    "result = piv.reorder_levels([1, 0], axis='columns')\n",
    "result_final = result.sort_index(axis='columns', level='Method').reindex(['LR','Ridge','Lasso','ElasticNet','Gauss','DT','RF','KNN','SVR'])\n",
    "\n",
    "\n",
    "result_final.to_excel('K-Fold_all_scores.xlsx')\n",
    "\n",
    "result_final"
   ]
  },
  {
   "cell_type": "code",
   "execution_count": null,
   "id": "c001d459",
   "metadata": {},
   "outputs": [],
   "source": []
  }
 ],
 "metadata": {
  "kernelspec": {
   "display_name": "Python 3 (ipykernel)",
   "language": "python",
   "name": "python3"
  },
  "language_info": {
   "codemirror_mode": {
    "name": "ipython",
    "version": 3
   },
   "file_extension": ".py",
   "mimetype": "text/x-python",
   "name": "python",
   "nbconvert_exporter": "python",
   "pygments_lexer": "ipython3",
   "version": "3.9.13"
  }
 },
 "nbformat": 4,
 "nbformat_minor": 5
}
