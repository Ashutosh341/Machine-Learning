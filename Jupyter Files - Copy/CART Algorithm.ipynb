{
 "cells": [
  {
   "cell_type": "code",
   "execution_count": 1,
   "id": "21e0715f-c2ac-4e64-8390-ca3d1f38379a",
   "metadata": {},
   "outputs": [],
   "source": [
    "import numpy as np\n",
    "import pandas as pd\n",
    "import matplotlib.pyplot as plt\n",
    "%matplotlib inline\n",
    "import seaborn as sns\n",
    "\n",
    "import warnings\n",
    "warnings.filterwarnings('ignore')\n",
    "pd.set_option('display.max_colwidth', -1)\n",
    "\n",
    "from sklearn.model_selection import train_test_split\n",
    "from sklearn.model_selection import GridSearchCV, RandomizedSearchCV\n",
    "from sklearn.metrics import classification_report, accuracy_score, roc_auc_score\n",
    "\n",
    "from sklearn.tree import DecisionTreeClassifier\n",
    "from sklearn.model_selection import train_test_split\n",
    "from sklearn.metrics import classification_report,roc_auc_score\n",
    "from sklearn.model_selection import GridSearchCV, RandomizedSearchCV\n",
    "from sklearn import tree\n",
    "\n",
    "import six\n",
    "import sys\n",
    "sys.modules['sklearn.externals.six'] = six\n",
    "\n",
    "from sklearn.tree import export_graphviz\n",
    "from sklearn.externals.six import StringIO  \n",
    "from IPython.display import Image  \n",
    "import pydotplus\n",
    "\n",
    "from sklearn.ensemble import RandomForestClassifier"
   ]
  },
  {
   "cell_type": "code",
   "execution_count": 2,
   "id": "5fd4fb35-526a-4e79-b240-76e8afeb390d",
   "metadata": {},
   "outputs": [
    {
     "name": "stdout",
     "output_type": "stream",
     "text": [
      "Number of records:  82852\n",
      "Number of columns:  79\n"
     ]
    }
   ],
   "source": [
    "# Reading the excel file Cart_file.xlsx - enter the path of the file\n",
    "df = pd.read_csv(r'OTR_EFS_final_CSV.csv')\n",
    "print(\"Number of records: \",len(df))\n",
    "print(\"Number of columns: \", len(df.columns))"
   ]
  },
  {
   "cell_type": "code",
   "execution_count": 3,
   "id": "4816a97a",
   "metadata": {},
   "outputs": [
    {
     "data": {
      "text/html": [
       "<div>\n",
       "<style scoped>\n",
       "    .dataframe tbody tr th:only-of-type {\n",
       "        vertical-align: middle;\n",
       "    }\n",
       "\n",
       "    .dataframe tbody tr th {\n",
       "        vertical-align: top;\n",
       "    }\n",
       "\n",
       "    .dataframe thead th {\n",
       "        text-align: right;\n",
       "    }\n",
       "</style>\n",
       "<table border=\"1\" class=\"dataframe\">\n",
       "  <thead>\n",
       "    <tr style=\"text-align: right;\">\n",
       "      <th></th>\n",
       "      <th>run_date</th>\n",
       "      <th>ar_number</th>\n",
       "      <th>customer_id</th>\n",
       "      <th>creditline_id</th>\n",
       "      <th>wex_national_id</th>\n",
       "      <th>account_open_date</th>\n",
       "      <th>wex_tenure</th>\n",
       "      <th>wex_tenure_group</th>\n",
       "      <th>platform</th>\n",
       "      <th>wex_lob</th>\n",
       "      <th>...</th>\n",
       "      <th>Event_Rate</th>\n",
       "      <th>cycle_group</th>\n",
       "      <th>program_type</th>\n",
       "      <th>employees</th>\n",
       "      <th>bankruptcy__found</th>\n",
       "      <th>bankruptcy__count</th>\n",
       "      <th>out_of__business__indicator</th>\n",
       "      <th>fss_class___03_months_ago</th>\n",
       "      <th>ccs__class___03_months_ago</th>\n",
       "      <th>paydex___03__months_ago</th>\n",
       "    </tr>\n",
       "  </thead>\n",
       "  <tbody>\n",
       "    <tr>\n",
       "      <th>0</th>\n",
       "      <td>2021-10-01 00:00:00</td>\n",
       "      <td>3770001908397</td>\n",
       "      <td>767475</td>\n",
       "      <td>3770001908397</td>\n",
       "      <td>blank</td>\n",
       "      <td>2019-05-23 00:00:00</td>\n",
       "      <td>29</td>\n",
       "      <td>&gt;24M</td>\n",
       "      <td>EFSLLC</td>\n",
       "      <td>OTR</td>\n",
       "      <td>...</td>\n",
       "      <td>0</td>\n",
       "      <td>Weekly</td>\n",
       "      <td>RTS Fleet One</td>\n",
       "      <td>NaN</td>\n",
       "      <td>N</td>\n",
       "      <td>NaN</td>\n",
       "      <td>N</td>\n",
       "      <td>3.0</td>\n",
       "      <td>2.0</td>\n",
       "      <td>80.0</td>\n",
       "    </tr>\n",
       "    <tr>\n",
       "      <th>1</th>\n",
       "      <td>2021-10-01 00:00:00</td>\n",
       "      <td>3770017717762</td>\n",
       "      <td>717762</td>\n",
       "      <td>3770017717762</td>\n",
       "      <td>blank</td>\n",
       "      <td>1999-05-07 00:00:00</td>\n",
       "      <td>269</td>\n",
       "      <td>&gt;24M</td>\n",
       "      <td>EFSLLC</td>\n",
       "      <td>OTR</td>\n",
       "      <td>...</td>\n",
       "      <td>0</td>\n",
       "      <td>Daily</td>\n",
       "      <td>NaN</td>\n",
       "      <td>14.0</td>\n",
       "      <td>N</td>\n",
       "      <td>NaN</td>\n",
       "      <td>N</td>\n",
       "      <td>3.0</td>\n",
       "      <td>2.0</td>\n",
       "      <td>80.0</td>\n",
       "    </tr>\n",
       "    <tr>\n",
       "      <th>2</th>\n",
       "      <td>2021-10-01 00:00:00</td>\n",
       "      <td>3770017732732</td>\n",
       "      <td>732732</td>\n",
       "      <td>3770017732732</td>\n",
       "      <td>blank</td>\n",
       "      <td>2017-04-07 00:00:00</td>\n",
       "      <td>54</td>\n",
       "      <td>&gt;24M</td>\n",
       "      <td>EFSLLC</td>\n",
       "      <td>OTR</td>\n",
       "      <td>...</td>\n",
       "      <td>0</td>\n",
       "      <td>Weekly</td>\n",
       "      <td>NaN</td>\n",
       "      <td>NaN</td>\n",
       "      <td>N</td>\n",
       "      <td>NaN</td>\n",
       "      <td>N</td>\n",
       "      <td>4.0</td>\n",
       "      <td>3.0</td>\n",
       "      <td>NaN</td>\n",
       "    </tr>\n",
       "    <tr>\n",
       "      <th>3</th>\n",
       "      <td>2021-10-01 00:00:00</td>\n",
       "      <td>3770017707857</td>\n",
       "      <td>707857</td>\n",
       "      <td>3770017707857</td>\n",
       "      <td>blank</td>\n",
       "      <td>2014-01-22 00:00:00</td>\n",
       "      <td>93</td>\n",
       "      <td>&gt;24M</td>\n",
       "      <td>EFSLLC</td>\n",
       "      <td>OTR</td>\n",
       "      <td>...</td>\n",
       "      <td>0</td>\n",
       "      <td>Weekly</td>\n",
       "      <td>NaN</td>\n",
       "      <td>7.0</td>\n",
       "      <td>N</td>\n",
       "      <td>NaN</td>\n",
       "      <td>N</td>\n",
       "      <td>2.0</td>\n",
       "      <td>2.0</td>\n",
       "      <td>80.0</td>\n",
       "    </tr>\n",
       "    <tr>\n",
       "      <th>4</th>\n",
       "      <td>2021-10-01 00:00:00</td>\n",
       "      <td>3770017703492</td>\n",
       "      <td>703492</td>\n",
       "      <td>3770017703492</td>\n",
       "      <td>blank</td>\n",
       "      <td>2013-05-27 00:00:00</td>\n",
       "      <td>101</td>\n",
       "      <td>&gt;24M</td>\n",
       "      <td>EFSLLC</td>\n",
       "      <td>OTR</td>\n",
       "      <td>...</td>\n",
       "      <td>0</td>\n",
       "      <td>Weekly</td>\n",
       "      <td>RTS Fleet One</td>\n",
       "      <td>4.0</td>\n",
       "      <td>N</td>\n",
       "      <td>NaN</td>\n",
       "      <td>N</td>\n",
       "      <td>4.0</td>\n",
       "      <td>5.0</td>\n",
       "      <td>67.0</td>\n",
       "    </tr>\n",
       "  </tbody>\n",
       "</table>\n",
       "<p>5 rows × 79 columns</p>\n",
       "</div>"
      ],
      "text/plain": [
       "              run_date      ar_number  customer_id  creditline_id  \\\n",
       "0  2021-10-01 00:00:00  3770001908397  767475       3770001908397   \n",
       "1  2021-10-01 00:00:00  3770017717762  717762       3770017717762   \n",
       "2  2021-10-01 00:00:00  3770017732732  732732       3770017732732   \n",
       "3  2021-10-01 00:00:00  3770017707857  707857       3770017707857   \n",
       "4  2021-10-01 00:00:00  3770017703492  703492       3770017703492   \n",
       "\n",
       "  wex_national_id    account_open_date  wex_tenure wex_tenure_group platform  \\\n",
       "0  blank           2019-05-23 00:00:00  29          >24M             EFSLLC    \n",
       "1  blank           1999-05-07 00:00:00  269         >24M             EFSLLC    \n",
       "2  blank           2017-04-07 00:00:00  54          >24M             EFSLLC    \n",
       "3  blank           2014-01-22 00:00:00  93          >24M             EFSLLC    \n",
       "4  blank           2013-05-27 00:00:00  101         >24M             EFSLLC    \n",
       "\n",
       "  wex_lob  ... Event_Rate cycle_group   program_type employees  \\\n",
       "0  OTR     ...  0          Weekly      RTS Fleet One NaN         \n",
       "1  OTR     ...  0          Daily       NaN            14.0       \n",
       "2  OTR     ...  0          Weekly      NaN           NaN         \n",
       "3  OTR     ...  0          Weekly      NaN            7.0        \n",
       "4  OTR     ...  0          Weekly      RTS Fleet One  4.0        \n",
       "\n",
       "  bankruptcy__found bankruptcy__count out_of__business__indicator  \\\n",
       "0  N                NaN                N                            \n",
       "1  N                NaN                N                            \n",
       "2  N                NaN                N                            \n",
       "3  N                NaN                N                            \n",
       "4  N                NaN                N                            \n",
       "\n",
       "   fss_class___03_months_ago  ccs__class___03_months_ago  \\\n",
       "0  3.0                        2.0                          \n",
       "1  3.0                        2.0                          \n",
       "2  4.0                        3.0                          \n",
       "3  2.0                        2.0                          \n",
       "4  4.0                        5.0                          \n",
       "\n",
       "   paydex___03__months_ago  \n",
       "0  80.0                     \n",
       "1  80.0                     \n",
       "2 NaN                       \n",
       "3  80.0                     \n",
       "4  67.0                     \n",
       "\n",
       "[5 rows x 79 columns]"
      ]
     },
     "execution_count": 3,
     "metadata": {},
     "output_type": "execute_result"
    }
   ],
   "source": [
    "df.head(5)"
   ]
  },
  {
   "cell_type": "code",
   "execution_count": 4,
   "id": "5a2de931-5499-413d-bdb1-4c6837c319f9",
   "metadata": {},
   "outputs": [
    {
     "name": "stdout",
     "output_type": "stream",
     "text": [
      "Number of records:  82852\n",
      "Number of columns:  45\n"
     ]
    }
   ],
   "source": [
    "#dropping the non required columns\n",
    "drop_list = ['run_date',\n",
    "            'ar_number',\n",
    "            'customer_id',\n",
    "            'creditline_id',\n",
    "            'wex_national_id',\n",
    "            'account_open_date',\n",
    "            'wex_tenure_group',\n",
    "            'platform',\n",
    "            'wex_lob',\n",
    "            'account_name',\n",
    "            'arm_status',\n",
    "            'credit_status',\n",
    "            'credit_currency',\n",
    "            'prefunded_accts_flg',\n",
    "            'open_ar_total',\n",
    "            'min_ar_date',\n",
    "            'chargeoff_date',\n",
    "            'Inactive',\n",
    "            'nonfuel_spend_bkt',\n",
    "            'name',\n",
    "            'years_in_business',\n",
    "            'years__in__business',\n",
    "            'd_u_n_s__number',\n",
    "            'business__name',\n",
    "            'prediction',\n",
    "            'behavioral_score',\n",
    "            'granual_joinid',\n",
    "            'allrecords',\n",
    "            'bankruptcy__count',\n",
    "            'biling_cycle',\n",
    "            'billing_terms',\n",
    "            'max_exposure',\n",
    "            'min_90_dpd',\n",
    "            'chargeoff_amount']\n",
    "\n",
    "df.drop(drop_list, axis=1, inplace=True)\n",
    "print(\"Number of records: \",len(df))\n",
    "print(\"Number of columns: \", len(df.columns))"
   ]
  },
  {
   "cell_type": "code",
   "execution_count": 5,
   "id": "bb41b3c5-7036-4eec-a812-6b03e8e3b615",
   "metadata": {},
   "outputs": [],
   "source": [
    "#convert float function\n",
    "def convert_float(val):\n",
    "    try:\n",
    "        return float(val)\n",
    "    except ValueError:\n",
    "        return np.nan"
   ]
  },
  {
   "cell_type": "code",
   "execution_count": 6,
   "id": "164ff4e9-6145-465a-be4a-e159e8f719b1",
   "metadata": {
    "tags": []
   },
   "outputs": [
    {
     "name": "stdout",
     "output_type": "stream",
     "text": [
      "wex_tenure\n",
      "credit_limit\n",
      "credit_limit_usd\n",
      "available_credit_amount\n",
      "available_credit_limit_usd\n",
      "open_ar_total_usd\n",
      "past_due_days\n",
      "sum_ttl_spend_12m\n",
      "sum_fuel_amt_12m\n",
      "sum_cash_amt_12m\n",
      "sum_misc_amt_12m\n",
      "sum_original_amt_12m\n",
      "sum_amt_used_12m\n",
      "sum_fee_amt_12m\n",
      "total_spend\n",
      "money_code_to_ttl_spend\n",
      "nonfuel_to_ttl_card_spend\n",
      "number_of_trucks__c\n",
      "YIB_Arbtr\n",
      "dnb_hit_flg\n",
      "paydex\n",
      "financial__stress__score\n",
      "commercial__credit__score\n",
      "number_of__negative__payments\n",
      "number_of__satisfactory__payments\n",
      "number_of__slow__payments\n",
      "employees\n",
      "paydex___03__months_ago\n"
     ]
    }
   ],
   "source": [
    "#converting columns into numerical\n",
    "numerical_cols = ['wex_tenure',\n",
    "'credit_limit',\n",
    "'credit_limit_usd',\n",
    "'available_credit_amount',\n",
    "'available_credit_limit_usd',\n",
    "'open_ar_total_usd',\n",
    "'past_due_days',\n",
    "'sum_ttl_spend_12m',\n",
    "'sum_fuel_amt_12m',\n",
    "'sum_cash_amt_12m',\n",
    "'sum_misc_amt_12m',\n",
    "'sum_original_amt_12m',\n",
    "'sum_amt_used_12m',\n",
    "'sum_fee_amt_12m',\n",
    "'total_spend',\n",
    "'money_code_to_ttl_spend',\n",
    "'nonfuel_to_ttl_card_spend',\n",
    "'number_of_trucks__c',\n",
    "'YIB_Arbtr',\n",
    "'dnb_hit_flg',\n",
    "'paydex',\n",
    "'financial__stress__score',\n",
    "'commercial__credit__score',\n",
    "'number_of__negative__payments',\n",
    "'number_of__satisfactory__payments',\n",
    "'number_of__slow__payments',\n",
    "'employees',\n",
    "'paydex___03__months_ago']\n",
    "\n",
    "for colname in numerical_cols:\n",
    "    print(colname)\n",
    "    df[colname] = df[colname].apply(lambda x: convert_float(x))"
   ]
  },
  {
   "cell_type": "code",
   "execution_count": 7,
   "id": "c341afa5-6422-453f-b172-95a83f9090af",
   "metadata": {},
   "outputs": [],
   "source": [
    "#df['sum_misc_amt_12m'].isnull().value_counts()"
   ]
  },
  {
   "cell_type": "code",
   "execution_count": 8,
   "id": "27ca64de-460d-4a60-abc7-e45dcd15c85a",
   "metadata": {},
   "outputs": [],
   "source": [
    "#df['sum_misc_amt_12m'].isna().value_counts()"
   ]
  },
  {
   "cell_type": "code",
   "execution_count": 7,
   "id": "b0560ca5-e1d4-49e7-bc67-bcca3c66e32f",
   "metadata": {},
   "outputs": [],
   "source": [
    "#handling the Missing Values - Categorical Columns\n",
    "df['has_personal_guarantor'] = df['has_personal_guarantor'].replace(np.nan,'N')\n",
    "df['chargeoff_flg'] = df['chargeoff_flg'].replace(np.nan,'N')\n",
    "df['risk_grade__c'] = df['risk_grade__c'].replace(np.nan,'Missing')\n",
    "df['risk_grade_source__c'] = df['risk_grade_source__c'].replace(np.nan,'Missing')\n",
    "df['fss__class__score'] = df['fss__class__score'].replace(np.nan,'Missing')\n",
    "df['commercial__credit__score__class'] = df['commercial__credit__score__class'].replace(np.nan,'Missing')\n",
    "df['ai_rg'] = df['ai_rg'].replace(np.nan,'Missing')\n",
    "df['program_type'] = df['program_type'].replace(np.nan,'Missing')\n",
    "df['bankruptcy__found'] = df['bankruptcy__found'].replace(np.nan,'N')\n",
    "df['out_of__business__indicator'] = df['out_of__business__indicator'].replace(np.nan,'N')\n",
    "df['fss_class___03_months_ago'] = df['fss_class___03_months_ago'].replace(np.nan,'Missing')\n",
    "df['ccs__class___03_months_ago'] = df['ccs__class___03_months_ago'].replace(np.nan,'Missing')"
   ]
  },
  {
   "cell_type": "code",
   "execution_count": 8,
   "id": "abbea80f-db17-4264-b63a-93004796a534",
   "metadata": {},
   "outputs": [],
   "source": [
    "#handling the Missing Values - Numerical Columns\n",
    "df['sum_cash_amt_12m'] = df['sum_cash_amt_12m'].replace(np.nan,0)\n",
    "df['sum_original_amt_12m'] = df['sum_original_amt_12m'].replace(np.nan,0)\n",
    "df['sum_amt_used_12m'] = df['sum_amt_used_12m'].replace(np.nan,0)\n",
    "df['sum_fee_amt_12m'] = df['sum_fee_amt_12m'].replace(np.nan,0)\n",
    "df['sum_fuel_amt_12m'] = df['sum_fuel_amt_12m'].replace(np.nan,0)\n",
    "df['sum_misc_amt_12m'] = df['sum_misc_amt_12m'].replace(np.nan,0)\n",
    "df['sum_ttl_spend_12m'] = df['sum_ttl_spend_12m'].replace(np.nan,0)\n",
    "df['nonfuel_to_ttl_card_spend'] = df['nonfuel_to_ttl_card_spend'].replace(np.nan,0)\n",
    "df['number_of_trucks__c'] = df['number_of_trucks__c'].replace(np.nan,0)\n",
    "\n",
    "df['paydex'] = df['paydex'].replace(np.nan,50) #paydex\n",
    "df['financial__stress__score'] = df['financial__stress__score'].replace(np.nan,1450) #fss score\n",
    "df['commercial__credit__score'] = df['commercial__credit__score'].replace(np.nan,450) #css score\n",
    "\n",
    "df['number_of__negative__payments'] = df['number_of__negative__payments'].replace(np.nan,0)\n",
    "df['number_of__satisfactory__payments'] = df['number_of__satisfactory__payments'].replace(np.nan,0)\n",
    "df['number_of__slow__payments'] = df['number_of__slow__payments'].replace(np.nan,0)\n",
    "df['employees'] = df['employees'].replace(np.nan,0)\n",
    "\n",
    "df['paydex___03__months_ago'] = df['paydex___03__months_ago'].replace(np.nan,50) #paydex_3mo_ago"
   ]
  },
  {
   "cell_type": "code",
   "execution_count": 9,
   "id": "7301a395-5335-447f-982c-c686086d69a4",
   "metadata": {},
   "outputs": [],
   "source": [
    "df.to_csv(r'Output\\op_missing_value_correction.csv')"
   ]
  },
  {
   "cell_type": "code",
   "execution_count": 10,
   "id": "a4a3e8ad-15c0-4313-8328-3e850a3d9164",
   "metadata": {},
   "outputs": [
    {
     "name": "stdout",
     "output_type": "stream",
     "text": [
      "Number of columns in the Starting: 45\n",
      "Number of columns in the End: 252\n"
     ]
    }
   ],
   "source": [
    "categorical_cols = ['issuer_name',\n",
    "                    'customer_status',\n",
    "                    'has_personal_guarantor',\n",
    "                    'has_security_deposit',\n",
    "                    'chargeoff_flg',\n",
    "                    'risk_grade__c',\n",
    "                    'risk_grade_source__c',\n",
    "                    'fss__class__score',\n",
    "                    'commercial__credit__score__class',\n",
    "                    'ai_rg',\n",
    "                    'cycle_group',\n",
    "                    'program_type',\n",
    "                    'bankruptcy__found',\n",
    "                    'out_of__business__indicator',\n",
    "                    'fss_class___03_months_ago',\n",
    "                    'ccs__class___03_months_ago']\n",
    "print(\"Number of columns in the Starting:\",len(df.columns))\n",
    "df_OHE = pd.get_dummies(df, columns = categorical_cols)\n",
    "print(\"Number of columns in the End:\",len(df_OHE.columns))"
   ]
  },
  {
   "cell_type": "code",
   "execution_count": 11,
   "id": "b89c75a7-74bb-4e80-b7bb-fb1fe88ef15f",
   "metadata": {},
   "outputs": [],
   "source": [
    "df_OHE.to_csv(r'Output\\op_OHE.csv')"
   ]
  },
  {
   "cell_type": "code",
   "execution_count": 12,
   "id": "e3984ec1",
   "metadata": {
    "scrolled": true
   },
   "outputs": [
    {
     "data": {
      "text/html": [
       "<div>\n",
       "<style scoped>\n",
       "    .dataframe tbody tr th:only-of-type {\n",
       "        vertical-align: middle;\n",
       "    }\n",
       "\n",
       "    .dataframe tbody tr th {\n",
       "        vertical-align: top;\n",
       "    }\n",
       "\n",
       "    .dataframe thead th {\n",
       "        text-align: right;\n",
       "    }\n",
       "</style>\n",
       "<table border=\"1\" class=\"dataframe\">\n",
       "  <thead>\n",
       "    <tr style=\"text-align: right;\">\n",
       "      <th></th>\n",
       "      <th>wex_tenure</th>\n",
       "      <th>credit_limit</th>\n",
       "      <th>credit_limit_usd</th>\n",
       "      <th>available_credit_amount</th>\n",
       "      <th>available_credit_limit_usd</th>\n",
       "      <th>open_ar_total_usd</th>\n",
       "      <th>past_due_days</th>\n",
       "      <th>sum_ttl_spend_12m</th>\n",
       "      <th>sum_fuel_amt_12m</th>\n",
       "      <th>sum_cash_amt_12m</th>\n",
       "      <th>...</th>\n",
       "      <th>fss_class___03_months_ago_4.0</th>\n",
       "      <th>fss_class___03_months_ago_5.0</th>\n",
       "      <th>fss_class___03_months_ago_Missing</th>\n",
       "      <th>ccs__class___03_months_ago_0.0</th>\n",
       "      <th>ccs__class___03_months_ago_1.0</th>\n",
       "      <th>ccs__class___03_months_ago_2.0</th>\n",
       "      <th>ccs__class___03_months_ago_3.0</th>\n",
       "      <th>ccs__class___03_months_ago_4.0</th>\n",
       "      <th>ccs__class___03_months_ago_5.0</th>\n",
       "      <th>ccs__class___03_months_ago_Missing</th>\n",
       "    </tr>\n",
       "  </thead>\n",
       "  <tbody>\n",
       "    <tr>\n",
       "      <th>0</th>\n",
       "      <td>29.0</td>\n",
       "      <td>20000.0</td>\n",
       "      <td>20000.0</td>\n",
       "      <td>15955.41</td>\n",
       "      <td>15955.41</td>\n",
       "      <td>4044.59</td>\n",
       "      <td>0.0</td>\n",
       "      <td>404795.87</td>\n",
       "      <td>404098.10</td>\n",
       "      <td>471.0</td>\n",
       "      <td>...</td>\n",
       "      <td>0</td>\n",
       "      <td>0</td>\n",
       "      <td>0</td>\n",
       "      <td>0</td>\n",
       "      <td>0</td>\n",
       "      <td>1</td>\n",
       "      <td>0</td>\n",
       "      <td>0</td>\n",
       "      <td>0</td>\n",
       "      <td>0</td>\n",
       "    </tr>\n",
       "    <tr>\n",
       "      <th>1</th>\n",
       "      <td>269.0</td>\n",
       "      <td>5000.0</td>\n",
       "      <td>5000.0</td>\n",
       "      <td>2477.84</td>\n",
       "      <td>2477.84</td>\n",
       "      <td>2084.65</td>\n",
       "      <td>0.0</td>\n",
       "      <td>297361.84</td>\n",
       "      <td>296751.77</td>\n",
       "      <td>570.0</td>\n",
       "      <td>...</td>\n",
       "      <td>0</td>\n",
       "      <td>0</td>\n",
       "      <td>0</td>\n",
       "      <td>0</td>\n",
       "      <td>0</td>\n",
       "      <td>1</td>\n",
       "      <td>0</td>\n",
       "      <td>0</td>\n",
       "      <td>0</td>\n",
       "      <td>0</td>\n",
       "    </tr>\n",
       "    <tr>\n",
       "      <th>2</th>\n",
       "      <td>54.0</td>\n",
       "      <td>7000.0</td>\n",
       "      <td>7000.0</td>\n",
       "      <td>6318.55</td>\n",
       "      <td>6318.55</td>\n",
       "      <td>687.45</td>\n",
       "      <td>0.0</td>\n",
       "      <td>36614.28</td>\n",
       "      <td>36151.70</td>\n",
       "      <td>0.0</td>\n",
       "      <td>...</td>\n",
       "      <td>1</td>\n",
       "      <td>0</td>\n",
       "      <td>0</td>\n",
       "      <td>0</td>\n",
       "      <td>0</td>\n",
       "      <td>0</td>\n",
       "      <td>1</td>\n",
       "      <td>0</td>\n",
       "      <td>0</td>\n",
       "      <td>0</td>\n",
       "    </tr>\n",
       "    <tr>\n",
       "      <th>3</th>\n",
       "      <td>93.0</td>\n",
       "      <td>15000.0</td>\n",
       "      <td>15000.0</td>\n",
       "      <td>11587.48</td>\n",
       "      <td>11587.48</td>\n",
       "      <td>3412.52</td>\n",
       "      <td>0.0</td>\n",
       "      <td>348743.44</td>\n",
       "      <td>348743.44</td>\n",
       "      <td>0.0</td>\n",
       "      <td>...</td>\n",
       "      <td>0</td>\n",
       "      <td>0</td>\n",
       "      <td>0</td>\n",
       "      <td>0</td>\n",
       "      <td>0</td>\n",
       "      <td>1</td>\n",
       "      <td>0</td>\n",
       "      <td>0</td>\n",
       "      <td>0</td>\n",
       "      <td>0</td>\n",
       "    </tr>\n",
       "    <tr>\n",
       "      <th>4</th>\n",
       "      <td>101.0</td>\n",
       "      <td>5000.0</td>\n",
       "      <td>5000.0</td>\n",
       "      <td>3810.56</td>\n",
       "      <td>3810.56</td>\n",
       "      <td>1197.44</td>\n",
       "      <td>0.0</td>\n",
       "      <td>91919.43</td>\n",
       "      <td>91919.43</td>\n",
       "      <td>0.0</td>\n",
       "      <td>...</td>\n",
       "      <td>1</td>\n",
       "      <td>0</td>\n",
       "      <td>0</td>\n",
       "      <td>0</td>\n",
       "      <td>0</td>\n",
       "      <td>0</td>\n",
       "      <td>0</td>\n",
       "      <td>0</td>\n",
       "      <td>1</td>\n",
       "      <td>0</td>\n",
       "    </tr>\n",
       "  </tbody>\n",
       "</table>\n",
       "<p>5 rows × 252 columns</p>\n",
       "</div>"
      ],
      "text/plain": [
       "   wex_tenure  credit_limit  credit_limit_usd  available_credit_amount  \\\n",
       "0  29.0        20000.0       20000.0           15955.41                  \n",
       "1  269.0       5000.0        5000.0            2477.84                   \n",
       "2  54.0        7000.0        7000.0            6318.55                   \n",
       "3  93.0        15000.0       15000.0           11587.48                  \n",
       "4  101.0       5000.0        5000.0            3810.56                   \n",
       "\n",
       "   available_credit_limit_usd  open_ar_total_usd  past_due_days  \\\n",
       "0  15955.41                    4044.59            0.0             \n",
       "1  2477.84                     2084.65            0.0             \n",
       "2  6318.55                     687.45             0.0             \n",
       "3  11587.48                    3412.52            0.0             \n",
       "4  3810.56                     1197.44            0.0             \n",
       "\n",
       "   sum_ttl_spend_12m  sum_fuel_amt_12m  sum_cash_amt_12m  ...  \\\n",
       "0  404795.87          404098.10         471.0             ...   \n",
       "1  297361.84          296751.77         570.0             ...   \n",
       "2  36614.28           36151.70          0.0               ...   \n",
       "3  348743.44          348743.44         0.0               ...   \n",
       "4  91919.43           91919.43          0.0               ...   \n",
       "\n",
       "   fss_class___03_months_ago_4.0  fss_class___03_months_ago_5.0  \\\n",
       "0  0                              0                               \n",
       "1  0                              0                               \n",
       "2  1                              0                               \n",
       "3  0                              0                               \n",
       "4  1                              0                               \n",
       "\n",
       "   fss_class___03_months_ago_Missing  ccs__class___03_months_ago_0.0  \\\n",
       "0  0                                  0                                \n",
       "1  0                                  0                                \n",
       "2  0                                  0                                \n",
       "3  0                                  0                                \n",
       "4  0                                  0                                \n",
       "\n",
       "   ccs__class___03_months_ago_1.0  ccs__class___03_months_ago_2.0  \\\n",
       "0  0                               1                                \n",
       "1  0                               1                                \n",
       "2  0                               0                                \n",
       "3  0                               1                                \n",
       "4  0                               0                                \n",
       "\n",
       "   ccs__class___03_months_ago_3.0  ccs__class___03_months_ago_4.0  \\\n",
       "0  0                               0                                \n",
       "1  0                               0                                \n",
       "2  1                               0                                \n",
       "3  0                               0                                \n",
       "4  0                               0                                \n",
       "\n",
       "   ccs__class___03_months_ago_5.0  ccs__class___03_months_ago_Missing  \n",
       "0  0                               0                                   \n",
       "1  0                               0                                   \n",
       "2  0                               0                                   \n",
       "3  0                               0                                   \n",
       "4  1                               0                                   \n",
       "\n",
       "[5 rows x 252 columns]"
      ]
     },
     "execution_count": 12,
     "metadata": {},
     "output_type": "execute_result"
    }
   ],
   "source": [
    "df_OHE.head(5)"
   ]
  },
  {
   "cell_type": "code",
   "execution_count": 13,
   "id": "31aaf213",
   "metadata": {},
   "outputs": [
    {
     "data": {
      "text/plain": [
       "wex_tenure                            0\n",
       "credit_limit                          0\n",
       "credit_limit_usd                      0\n",
       "available_credit_amount               0\n",
       "available_credit_limit_usd            0\n",
       "                                     ..\n",
       "ccs__class___03_months_ago_2.0        0\n",
       "ccs__class___03_months_ago_3.0        0\n",
       "ccs__class___03_months_ago_4.0        0\n",
       "ccs__class___03_months_ago_5.0        0\n",
       "ccs__class___03_months_ago_Missing    0\n",
       "Length: 252, dtype: int64"
      ]
     },
     "execution_count": 13,
     "metadata": {},
     "output_type": "execute_result"
    }
   ],
   "source": [
    "df_OHE.isna().sum()"
   ]
  },
  {
   "cell_type": "code",
   "execution_count": 14,
   "id": "7bc50f36-d84e-4297-b7ae-69daa5b9525d",
   "metadata": {
    "tags": []
   },
   "outputs": [
    {
     "name": "stdout",
     "output_type": "stream",
     "text": [
      "Checking if data is finite- Excluding V2 Variables: True\n",
      "Checking if data have NA- Excluding V2 Variables: False\n"
     ]
    }
   ],
   "source": [
    "#checking if data is finite - this should be true\n",
    "print('Checking if data is finite- Excluding V2 Variables:', np.all(np.isfinite(df_OHE)))\n",
    "\n",
    "#checking if there are NA - this should be false\n",
    "print('Checking if data have NA- Excluding V2 Variables:',np.all(np.isnan(df_OHE)))"
   ]
  },
  {
   "cell_type": "markdown",
   "id": "f29f3209-98c3-4e5b-a064-3f01efb80998",
   "metadata": {
    "tags": []
   },
   "source": [
    "# Attempting CART - Fitting the Tree Algorithm"
   ]
  },
  {
   "cell_type": "code",
   "execution_count": 15,
   "id": "05911bb5-7572-4d3e-80bf-db0d0dd78f6c",
   "metadata": {},
   "outputs": [
    {
     "name": "stdout",
     "output_type": "stream",
     "text": [
      "(74566, 251) (8286, 251)\n",
      "Wall time: 1.54 s\n"
     ]
    }
   ],
   "source": [
    "%%time\n",
    "#Test-Train Sample Creations\n",
    "# Defining X and y - Train (90%) and Test (10%)\n",
    "X = df_OHE.drop('Event_Rate',axis=1)\n",
    "y = df_OHE[['Event_Rate']]\n",
    "\n",
    "# Train test splitting\n",
    "X_train,X_test,y_train,y_test = train_test_split(X,y,test_size=0.10,random_state=0,stratify=y)\n",
    "print(X_train.shape,X_test.shape)"
   ]
  },
  {
   "cell_type": "code",
   "execution_count": 22,
   "id": "0e3fc372-cd37-4dab-a9cf-6462bdfc678a",
   "metadata": {
    "tags": []
   },
   "outputs": [
    {
     "name": "stdout",
     "output_type": "stream",
     "text": [
      "Wall time: 14min 20s\n"
     ]
    },
    {
     "data": {
      "text/plain": [
       "GridSearchCV(cv=5,\n",
       "             estimator=DecisionTreeClassifier(class_weight={0: 1, 1: 11},\n",
       "                                              random_state=0),\n",
       "             n_jobs=-1,\n",
       "             param_grid={'criterion': ['gini', 'entropy'],\n",
       "                         'max_depth': [3, 4, 5, 6, 7, 8, 9, 10, 11, 12, 13],\n",
       "                         'min_samples_leaf': [3, 4, 5, 8],\n",
       "                         'min_samples_split': [3, 4, 5, 8]},\n",
       "             scoring='roc_auc')"
      ]
     },
     "execution_count": 22,
     "metadata": {},
     "output_type": "execute_result"
    }
   ],
   "source": [
    "%%time \n",
    "## Wall time: 8min 32s\n",
    "#Running the Gridsearch to check best parameters\n",
    "# Setting weights for class imbalance - running gridsearch with 10K samples\n",
    "weights = {0:1, 1:11}\n",
    "dtree  = DecisionTreeClassifier(class_weight=weights, random_state=0)\n",
    "# Defining the parameters for parameter tuning\n",
    "params = {'max_depth': [3,4,5,6,7,8,9,10,11,12,13],\n",
    "         'min_samples_leaf' : [3,4,5,8],\n",
    "         'min_samples_split':[3,4,5,8],\n",
    "         'criterion': [\"gini\",\"entropy\"]}\n",
    "# Fitting the GrdiSearchCV tuning algorithm\n",
    "cv = GridSearchCV(dtree, param_grid = params, scoring = 'roc_auc', cv = 5, n_jobs=-1)\n",
    "cv.fit(X_train, y_train)"
   ]
  },
  {
   "cell_type": "code",
   "execution_count": 34,
   "id": "71ffe961-acfd-4e8b-a900-f977faf8e8f3",
   "metadata": {},
   "outputs": [],
   "source": [
    "#Calculating the Importance Matrix\n",
    "# Creating a custom function\n",
    "def create_dt_importance(X_train,y_train, depth, top_n_feats, imp_dict={}):\n",
    "    dtc = DecisionTreeClassifier(max_depth = depth,\n",
    "                                   min_samples_leaf = cv.best_params_['min_samples_leaf'],\n",
    "                                   min_samples_split = cv.best_params_['min_samples_split'],\n",
    "                                  class_weight=cv.best_estimator_.class_weight,\n",
    "                                  random_state=cv.best_estimator_.random_state,\n",
    "                                 criterion=cv.best_estimator_.criterion )\n",
    "    dtc.fit(X_train,y_train)\n",
    "    y_pred_f = dtc.predict(X_test)\n",
    "    y_prob = dtc.predict_proba(X_test)\n",
    "    \n",
    "    #Calculating feature importance curve\n",
    "    importance = dtc.feature_importances_\n",
    "    \n",
    "    #Storing the importance scores in the importance dictionary\n",
    "    for i,ii in enumerate(importance):\n",
    "        imp_dict[X.columns[i]]=importance[i]\n",
    "        \n",
    "    # Sort the dictionary\n",
    "    sorted_dict = sorted(imp_dict.items(),key = lambda kv: kv[1],reverse=True)\n",
    "    \n",
    "    return sorted_dict[:top_n_feats]"
   ]
  },
  {
   "cell_type": "code",
   "execution_count": 35,
   "id": "ad1a62a0-c89c-40aa-b319-6bf358513804",
   "metadata": {
    "tags": []
   },
   "outputs": [
    {
     "name": "stdout",
     "output_type": "stream",
     "text": [
      "Wall time: 4.06 s\n"
     ]
    }
   ],
   "source": [
    "%%time\n",
    "importance_matrix = pd.DataFrame(create_dt_importance(X_train,y_train,cv.best_params_['max_depth'],254))\n",
    "importance_matrix.rename(columns = {0:'variable', 1:'Importance'}, inplace = True)\n",
    "importance_matrix.to_csv(r'Output\\importance_matrix_CART.csv') #setup the file path here"
   ]
  },
  {
   "cell_type": "code",
   "execution_count": 36,
   "id": "64690bf5-1523-4cca-bf5e-5c451bd79f6c",
   "metadata": {},
   "outputs": [
    {
     "name": "stdout",
     "output_type": "stream",
     "text": [
      "(74566, 150) (8286, 150)\n",
      "Wall time: 8.07 s\n"
     ]
    }
   ],
   "source": [
    "%%time\n",
    "# Selecting the top n=150 features - updating Test & Train with only selected important features\n",
    "n=150\n",
    "X_train_top = X_train[[i[0] for i in create_dt_importance(X_train,y_train, cv.best_params_['max_depth'], n)]]\n",
    "X_test_top = X_test[[i[0] for i in create_dt_importance(X_train,y_train, cv.best_params_['max_depth'], n)]]\n",
    "print(X_train_top.shape, X_test_top.shape)"
   ]
  },
  {
   "cell_type": "code",
   "execution_count": 37,
   "id": "801f7b1d-cc45-472a-9b7d-46d67af0b78a",
   "metadata": {},
   "outputs": [
    {
     "name": "stdout",
     "output_type": "stream",
     "text": [
      "Wall time: 3.53 s\n"
     ]
    }
   ],
   "source": [
    "%%time\n",
    "# Fitting the dtree algo- Attempting CART\n",
    "dtree  = DecisionTreeClassifier(criterion=cv.best_estimator_.criterion,\n",
    "                               class_weight=weights, #None not class weight\n",
    "                               max_depth = cv.best_params_['max_depth'], \n",
    "                               min_samples_leaf = cv.best_params_['min_samples_leaf'],\n",
    "                               min_samples_split = cv.best_params_['min_samples_split'], \n",
    "                               random_state=cv.best_estimator_.random_state)\n",
    "dtree.fit(X_train_top, y_train)\n",
    "y_pred_f = dtree.predict(X_test_top)\n",
    "y_prob = dtree.predict_proba(X_test_top)"
   ]
  },
  {
   "cell_type": "code",
   "execution_count": 38,
   "id": "769095b8-acd0-42b8-9e63-d180466c4699",
   "metadata": {
    "jupyter": {
     "outputs_hidden": true
    },
    "tags": []
   },
   "outputs": [
    {
     "data": {
      "text/plain": [
       "0.6484599036348021"
      ]
     },
     "execution_count": 38,
     "metadata": {},
     "output_type": "execute_result"
    }
   ],
   "source": [
    "roc_auc_score(y_test.values.flatten(),y_prob.argmax(axis=-1))"
   ]
  },
  {
   "cell_type": "code",
   "execution_count": 19,
   "id": "cd723199-7ace-4559-a15a-99f8acc6f001",
   "metadata": {},
   "outputs": [],
   "source": [
    "# %%time\n",
    "\n",
    "# #tree for visulaization\n",
    "# dtree1  = DecisionTreeClassifier(criterion='gini',\n",
    "#                                class_weight=weights, #None not class weight\n",
    "#                                max_depth = 6, \n",
    "#                                min_samples_leaf = 2,\n",
    "#                                min_samples_split = 2, \n",
    "#                                random_state=cv.best_estimator_.random_state)\n",
    "# dtree1.fit(X_train_top, y_train)\n",
    "\n",
    "# # Visualising the tree graph\n",
    "# dot_data = StringIO()\n",
    "# export_graphviz(dtree1, out_file=dot_data, filled=True, rounded=True,special_characters=True,\n",
    "#                 feature_names = X_train_top.columns,class_names=['Not Default','Default'],precision=0)\n",
    "# graph = pydotplus.graph_from_dot_data(dot_data.getvalue())  \n",
    "# graph.write_png(r'Output\\OP_top50_imp_var.png')\n",
    "# Image(graph.create_png())"
   ]
  },
  {
   "cell_type": "markdown",
   "id": "092ec465-3790-4d6f-a325-42654b4c3edc",
   "metadata": {
    "tags": []
   },
   "source": [
    "# Attempting Random Forest"
   ]
  },
  {
   "cell_type": "code",
   "execution_count": 40,
   "id": "4b75a33a-1549-458d-9139-b4229afb94f3",
   "metadata": {},
   "outputs": [
    {
     "name": "stdout",
     "output_type": "stream",
     "text": [
      "(74566, 251) (8286, 251)\n",
      "Wall time: 1.4 s\n"
     ]
    }
   ],
   "source": [
    "%%time\n",
    "\n",
    "Test_Size = 0.10\n",
    "\n",
    "#Test-Train Sample Creations\n",
    "# Defining X and y - Train (90%) and Test (10%)\n",
    "X = df_OHE.drop('Event_Rate',axis=1)\n",
    "y = df_OHE[['Event_Rate']]\n",
    "\n",
    "# Train test splitting\n",
    "X_train,X_test,y_train,y_test = train_test_split(X,y,test_size=Test_Size,random_state=0,stratify=y)\n",
    "print(X_train.shape,X_test.shape)\n"
   ]
  },
  {
   "cell_type": "code",
   "execution_count": null,
   "id": "464e4c9b-e41d-4819-8eb6-adc03f2f2db5",
   "metadata": {
    "tags": []
   },
   "outputs": [],
   "source": [
    "%%time\n",
    "#Running gridsearch to find best parameters - Train and Test split is already done at CART stage\n",
    "\n",
    "random_state = 10 #seeding for random state\n",
    "rf = RandomForestClassifier(n_estimators=100, random_state=random_state, n_jobs=-1)\n",
    "\n",
    "param_grid = { \n",
    "    'n_estimators': [50,200,500],\n",
    "    'max_features': ['auto', 'sqrt', 'log2'],\n",
    "    'max_depth' : [7,9,10,12],\n",
    "    'min_samples_leaf': [1, 2, 4],\n",
    "    'min_samples_split': [2, 5, 10],\n",
    "    'criterion' :['gini']\n",
    "}\n",
    "\n",
    "\n",
    "cv_rf = GridSearchCV(estimator=rf, param_grid=param_grid,scoring = 'roc_auc', cv= 5, n_jobs=-1)\n",
    "cv_rf.fit(X_train.sample(n=10000, random_state=random_state), y_train.sample(n=10000, random_state=random_state))\n",
    "print(cv_rf.best_params_)"
   ]
  },
  {
   "cell_type": "code",
   "execution_count": null,
   "id": "83341e6b-c1b1-4dda-9980-43458ae8bf48",
   "metadata": {},
   "outputs": [],
   "source": [
    "#Calculating the Importance Matrix\n",
    "# Creating a custom function\n",
    "def create_rf_importance(X_train_IP, y_train_IP, X_test_IP, X_IP, cv_IP, top_n_feats, imp_dict={}):\n",
    "    rfc = RandomForestClassifier(max_depth = cv_IP.best_params_['max_depth'],\n",
    "                                n_estimators= cv_IP.best_params_['n_estimators'],\n",
    "                                class_weight=cv_IP.best_estimator_.class_weight,\n",
    "                                random_state=cv_IP.best_estimator_.random_state,\n",
    "                                criterion=cv_IP.best_estimator_.criterion ,\n",
    "                                min_samples_leaf=cv_IP.best_estimator_.min_samples_leaf,\n",
    "                                min_samples_split= cv_IP.best_estimator_.min_samples_split,\n",
    "                                n_jobs=-1)\n",
    "    rfc.fit(X_train_IP,y_train_IP)\n",
    "    y_pred_f = rfc.predict(X_test_IP)\n",
    "    y_prob = rfc.predict_proba(X_test_IP)\n",
    "    \n",
    "    #Calculating feature importance curve\n",
    "    importance = rfc.feature_importances_\n",
    "    \n",
    "    #Storing the importance scores in the importance dictionary\n",
    "    for i,ii in enumerate(importance):\n",
    "        imp_dict[X_IP.columns[i]]=importance[i]\n",
    "        \n",
    "    # Sort the dictionary\n",
    "    sorted_dict = sorted(imp_dict.items(),key = lambda kv: kv[1],reverse=True)\n",
    "    \n",
    "    return sorted_dict[:top_n_feats]"
   ]
  },
  {
   "cell_type": "code",
   "execution_count": null,
   "id": "c0886f7f-04b7-41df-9c4a-2f7ca2b76a7f",
   "metadata": {
    "tags": []
   },
   "outputs": [],
   "source": [
    "%%time\n",
    "print('Creating the Important Matrix - final files will be saved in Output folder')\n",
    "\n",
    "importance_matrix_rf = pd.DataFrame(create_rf_importance(X_train,y_train,X_test,X,cv_rf,254))\n",
    "importance_matrix_rf.rename(columns = {0:'variable', 1:'Importance'}, inplace = True)\n",
    "importance_matrix_rf.to_csv(r'Output\\importance_matrix_rf.csv')\n"
   ]
  },
  {
   "cell_type": "code",
   "execution_count": null,
   "id": "62d202c8-b040-40c3-adcd-3c927b41bf88",
   "metadata": {},
   "outputs": [],
   "source": [
    "%%time\n",
    "print('Selecting Top N features for Random Forest Plotting')\n",
    "n=150\n",
    "# Selecting the top n features - updating Test & Train with only selected important features\n",
    "X_train_top = X_train[[i[0] for i in create_rf_importance(X_train,y_train,X_test,X,cv_rf,n)]]\n",
    "X_test_top = X_test[[i[0] for i in create_rf_importance(X_train,y_train,X_test,X,cv_rf,n)]]\n",
    "print(X_train_top.shape, X_test_top.shape)"
   ]
  },
  {
   "cell_type": "code",
   "execution_count": null,
   "id": "45b352f3-14a3-4def-9768-aef551b296ed",
   "metadata": {},
   "outputs": [],
   "source": [
    "%%time\n",
    "weights_rf = {0:1, 1:50}\n",
    "rf1 = RandomForestClassifier(n_estimators=cv_rf.best_params_['n_estimators'],\n",
    "                             max_depth= cv_rf.best_params_['max_depth'] ,\n",
    "                             max_features= cv_rf.best_params_['max_features'],\n",
    "                             class_weight= weights_rf,\n",
    "                             criterion=cv_rf.best_estimator_.criterion,\n",
    "                             random_state=cv_rf.best_estimator_.random_state,\n",
    "                             n_jobs=-1)\n",
    "rf1.fit(X_train_top, y_train)\n",
    "\n",
    "y_pred_f1 = rf1.predict(X_test_top)\n",
    "y_prob1 = rf1.predict_proba(X_test_top)"
   ]
  },
  {
   "cell_type": "code",
   "execution_count": null,
   "id": "010d51fe-c6e3-42a2-9c13-8a26f0b57728",
   "metadata": {
    "tags": []
   },
   "outputs": [],
   "source": [
    "\n",
    "print('\\n------------------------------------------------\\n')\n",
    "print('ROC', roc_auc_score(y_test.values.flatten(),y_prob1.argmax(axis=-1)))\n",
    "print('------------------------------------------------')\n",
    "print('Classification Report \\n',classification_report(y_test,y_pred_f1))\n"
   ]
  },
  {
   "cell_type": "code",
   "execution_count": null,
   "id": "c169c591-ea9b-43d8-9d87-bcaafe75aadb",
   "metadata": {
    "tags": []
   },
   "outputs": [],
   "source": [
    "%%time\n",
    "\n",
    "#rf for visulaization\n",
    "rf2 = RandomForestClassifier(n_estimators=5,\n",
    "                             max_depth= 6 ,\n",
    "                             max_features= cv_rf.best_params_['max_features'],\n",
    "                             class_weight= weights_rf,\n",
    "                             criterion='gini',\n",
    "                             random_state=cv_rf.best_estimator_.random_state,\n",
    "                             n_jobs=-1)\n",
    "rf2.fit(X_train_top, y_train)\n",
    "\n",
    "\n",
    "\n",
    "from sklearn.tree import export_graphviz\n",
    "from pydotplus import graph_from_dot_data\n",
    "\n",
    "fn=X_train_top.columns\n",
    "cn=['Not Fraud','Fraud']\n",
    "fig, axes = plt.subplots(nrows = 1,ncols = 1, figsize = (10,10), dpi=3000)\n",
    "# Export as dot file\n",
    "dot_data = export_graphviz(rf2.estimators_[0], feature_names = fn,class_names = cn,\n",
    "                rounded = True, proportion = False, \n",
    "                precision = 2, filled = True, out_file=None)\n",
    "\n",
    "# Convert to png using system command (requires Graphviz)\n",
    "from subprocess import call\n",
    "call(['dot', '-Tpng', 'tree.dot', '-o', 'tree.png', '-Gdpi=600'])\n",
    "\n",
    "graph = graph_from_dot_data(dot_data)\n",
    "graph.write_png(r'Output\\RF_OP_Excluding_V2_Variables_0.png')\n",
    "Image(graph.create_png())\n"
   ]
  },
  {
   "cell_type": "markdown",
   "id": "9c0f5b81",
   "metadata": {},
   "source": [
    "### Attempting GBM"
   ]
  },
  {
   "cell_type": "code",
   "execution_count": 86,
   "id": "3277753d",
   "metadata": {},
   "outputs": [
    {
     "name": "stdout",
     "output_type": "stream",
     "text": [
      "(57996, 251) (24856, 251)\n",
      "Wall time: 326 ms\n"
     ]
    }
   ],
   "source": [
    "%%time\n",
    "#Train (70%) and Test (30%)\n",
    "X = df_OHE.drop('Event_Rate',axis=1)\n",
    "y = df_OHE[['Event_Rate']]\n",
    "\n",
    "\n",
    "X_train,X_test,y_train,y_test = train_test_split(X,y,test_size=0.30,random_state=0,stratify=y)\n",
    "print(X_train.shape,X_test.shape)"
   ]
  },
  {
   "cell_type": "code",
   "execution_count": 87,
   "id": "f459af47",
   "metadata": {},
   "outputs": [],
   "source": [
    "from sklearn.ensemble import GradientBoostingClassifier"
   ]
  },
  {
   "cell_type": "code",
   "execution_count": 130,
   "id": "dfb1ff17",
   "metadata": {},
   "outputs": [
    {
     "data": {
      "text/plain": [
       "0    80811\n",
       "1    2041 \n",
       "Name: Event_Rate, dtype: int64"
      ]
     },
     "execution_count": 130,
     "metadata": {},
     "output_type": "execute_result"
    }
   ],
   "source": [
    "y['Event_Rate'].value_counts() # Imbalanced dataset"
   ]
  },
  {
   "cell_type": "code",
   "execution_count": 144,
   "id": "87f391c0",
   "metadata": {},
   "outputs": [
    {
     "name": "stdout",
     "output_type": "stream",
     "text": [
      "82852\n"
     ]
    }
   ],
   "source": [
    "def func(list1=[]):\n",
    "    for value in df['Event_Rate']:\n",
    "        if value == 0:\n",
    "            list1.append(0.5)\n",
    "        else:\n",
    "            list1.append(4)\n",
    "    return list1\n",
    "x=func()\n",
    "print(len(x))"
   ]
  },
  {
   "cell_type": "code",
   "execution_count": 147,
   "id": "34aa13e4",
   "metadata": {},
   "outputs": [],
   "source": [
    "#x[:500]"
   ]
  },
  {
   "cell_type": "code",
   "execution_count": null,
   "id": "47865da4",
   "metadata": {},
   "outputs": [],
   "source": [
    "%%time\n",
    "\n",
    "\n",
    "random_state = 5 \n",
    "\n",
    "gbm = GradientBoostingClassifier(n_estimators=100, random_state=random_state)\n",
    "\n",
    "\n",
    "\n",
    "param_grid = { \n",
    "    'n_estimators': [50,70,80,90,100],\n",
    "    'learning_rate': [0.01,0.03,0.05,0.1,0.15],\n",
    "    'max_depth' : [5,7,10,12,14],\n",
    "    'min_samples_split': [2, 5, 7,9,10],\n",
    "    'criterion':['squared_error','friedman_mse','mse']\n",
    "    \n",
    "    \n",
    "}\n",
    "\n",
    "# need solution for sample weight and .sample method\n",
    "cv_rf = GridSearchCV(estimator=gbm, param_grid=param_grid,scoring = 'roc_auc', cv= 2, n_jobs=-1)\n",
    "cv_rf.fit(X_train.sample(n=50000, random_state=random_state), y_train.sample(n=50000, random_state=random_state),sample_weight=x[:50000])\n",
    "#print(cv_rf.best_params_)"
   ]
  },
  {
   "cell_type": "code",
   "execution_count": 157,
   "id": "65ff69bf",
   "metadata": {},
   "outputs": [
    {
     "data": {
      "text/plain": [
       "{'criterion': 'squared_error',\n",
       " 'learning_rate': 0.05,\n",
       " 'max_depth': 5,\n",
       " 'min_samples_split': 9,\n",
       " 'n_estimators': 90}"
      ]
     },
     "execution_count": 157,
     "metadata": {},
     "output_type": "execute_result"
    }
   ],
   "source": [
    "cv_rf.best_params_"
   ]
  },
  {
   "cell_type": "code",
   "execution_count": 158,
   "id": "2bfd7548",
   "metadata": {},
   "outputs": [
    {
     "data": {
      "text/plain": [
       "90"
      ]
     },
     "execution_count": 158,
     "metadata": {},
     "output_type": "execute_result"
    }
   ],
   "source": [
    "cv_rf.best_params_['n_estimators']"
   ]
  },
  {
   "cell_type": "code",
   "execution_count": 162,
   "id": "b46d00e3",
   "metadata": {},
   "outputs": [
    {
     "name": "stdout",
     "output_type": "stream",
     "text": [
      "Wall time: 53.1 s\n"
     ]
    }
   ],
   "source": [
    "%%time\n",
    "\n",
    "gbm2 = GradientBoostingClassifier(learning_rate=0.05,\n",
    "                             n_estimators=cv_rf.best_params_['n_estimators'],\n",
    "                             random_state=cv_rf.best_estimator_.random_state,\n",
    "                             max_depth= cv_rf.best_params_['max_depth'] ,\n",
    "                             \n",
    "                             criterion=cv_rf.best_estimator_.criterion,\n",
    "                             min_samples_split = cv_rf.best_params_['min_samples_split']\n",
    "                             \n",
    "                             )\n",
    "gbm2.fit(X_train, y_train,sample_weight=x[:57996])\n",
    "\n",
    "y_pred_f1 = gbm2.predict(X_test)\n",
    "y_prob1 = gbm2.predict_proba(X_test)"
   ]
  },
  {
   "cell_type": "code",
   "execution_count": 163,
   "id": "e382f699",
   "metadata": {},
   "outputs": [
    {
     "name": "stdout",
     "output_type": "stream",
     "text": [
      "\n",
      "------------------------------------------------\n",
      "\n",
      "ROC 0.5231565953115009\n",
      "------------------------------------------------\n",
      "Classification Report \n",
      "               precision    recall  f1-score   support\n",
      "\n",
      "           0       0.98      1.00      0.99     24244\n",
      "           1       0.53      0.05      0.09       612\n",
      "\n",
      "    accuracy                           0.98     24856\n",
      "   macro avg       0.75      0.52      0.54     24856\n",
      "weighted avg       0.97      0.98      0.97     24856\n",
      "\n"
     ]
    }
   ],
   "source": [
    "print('\\n------------------------------------------------\\n')\n",
    "print('ROC', roc_auc_score(y_test.values.flatten(),y_prob1.argmax(axis=-1)))\n",
    "print('------------------------------------------------')\n",
    "print('Classification Report \\n',classification_report(y_test,y_pred_f1))\n"
   ]
  },
  {
   "cell_type": "code",
   "execution_count": 92,
   "id": "45cf373f",
   "metadata": {},
   "outputs": [],
   "source": [
    "#Importance Matrix\n",
    "\n",
    "def create_rf_importance(X_train_IP, y_train_IP, X_test_IP, X_IP, cv_IP, top_n_feats, imp_dict={}):\n",
    "    gbmClassifier = GradientBoostingClassifier(learning_rate=0.03,\n",
    "                                max_depth = cv_IP.best_params_['max_depth'],\n",
    "                                n_estimators= cv_IP.best_params_['n_estimators'],\n",
    "                                random_state=5,\n",
    "                                criterion=cv_IP.best_estimator_.criterion ,\n",
    "                                max_features= cv_rf.best_params_['max_features'],\n",
    "                                min_samples_split= cv_IP.best_estimator_.min_samples_split,\n",
    "                                )\n",
    "    gbmClassifier.fit(X_train_IP,y_train_IP)\n",
    "    y_pred_f = gbmClassifier.predict(X_test_IP)\n",
    "    y_prob = gbmClassifier.predict_proba(X_test_IP)\n",
    "    \n",
    "    #Calculating feature importance curve\n",
    "    importance = gbmClassifier.feature_importances_\n",
    "    \n",
    "    #Storing the importance scores in the importance dictionary\n",
    "    for i,ii in enumerate(importance):\n",
    "        imp_dict[X_IP.columns[i]]=importance[i]\n",
    "        \n",
    "    # Sort the dictionary\n",
    "    sorted_dict = sorted(imp_dict.items(),key = lambda kv: kv[1],reverse=True)\n",
    "    \n",
    "    return sorted_dict[:top_n_feats]"
   ]
  },
  {
   "cell_type": "code",
   "execution_count": 93,
   "id": "9b630dbb",
   "metadata": {},
   "outputs": [
    {
     "name": "stdout",
     "output_type": "stream",
     "text": [
      "Creating the Important Matrix - final files will be saved in Output folder\n",
      "Wall time: 7.15 s\n"
     ]
    }
   ],
   "source": [
    "%%time\n",
    "print('Creating the Important Matrix - final files will be saved in Output folder')\n",
    "\n",
    "importance_matrix_rf = pd.DataFrame(create_rf_importance(X_train,y_train,X_test,X,cv_rf,100))\n",
    "importance_matrix_rf.rename(columns = {0:'variable', 1:'Importance'}, inplace = True)\n",
    "importance_matrix_rf.to_csv(r'Output\\importance_matrix_GBM.csv')\n"
   ]
  },
  {
   "cell_type": "code",
   "execution_count": 94,
   "id": "19fced3a",
   "metadata": {},
   "outputs": [
    {
     "data": {
      "text/html": [
       "<div>\n",
       "<style scoped>\n",
       "    .dataframe tbody tr th:only-of-type {\n",
       "        vertical-align: middle;\n",
       "    }\n",
       "\n",
       "    .dataframe tbody tr th {\n",
       "        vertical-align: top;\n",
       "    }\n",
       "\n",
       "    .dataframe thead th {\n",
       "        text-align: right;\n",
       "    }\n",
       "</style>\n",
       "<table border=\"1\" class=\"dataframe\">\n",
       "  <thead>\n",
       "    <tr style=\"text-align: right;\">\n",
       "      <th></th>\n",
       "      <th>variable</th>\n",
       "      <th>Importance</th>\n",
       "    </tr>\n",
       "  </thead>\n",
       "  <tbody>\n",
       "    <tr>\n",
       "      <th>0</th>\n",
       "      <td>sum_ttl_spend_12m</td>\n",
       "      <td>0.059755</td>\n",
       "    </tr>\n",
       "    <tr>\n",
       "      <th>1</th>\n",
       "      <td>sum_fuel_amt_12m</td>\n",
       "      <td>0.054981</td>\n",
       "    </tr>\n",
       "    <tr>\n",
       "      <th>2</th>\n",
       "      <td>total_spend</td>\n",
       "      <td>0.054007</td>\n",
       "    </tr>\n",
       "    <tr>\n",
       "      <th>3</th>\n",
       "      <td>nonfuel_to_ttl_card_spend</td>\n",
       "      <td>0.052274</td>\n",
       "    </tr>\n",
       "    <tr>\n",
       "      <th>4</th>\n",
       "      <td>wex_tenure</td>\n",
       "      <td>0.044051</td>\n",
       "    </tr>\n",
       "    <tr>\n",
       "      <th>...</th>\n",
       "      <td>...</td>\n",
       "      <td>...</td>\n",
       "    </tr>\n",
       "    <tr>\n",
       "      <th>95</th>\n",
       "      <td>program_type_New EFS Promotion 2021</td>\n",
       "      <td>0.001029</td>\n",
       "    </tr>\n",
       "    <tr>\n",
       "      <th>96</th>\n",
       "      <td>has_security_deposit_Y</td>\n",
       "      <td>0.001000</td>\n",
       "    </tr>\n",
       "    <tr>\n",
       "      <th>97</th>\n",
       "      <td>commercial__credit__score__class_1.0</td>\n",
       "      <td>0.000969</td>\n",
       "    </tr>\n",
       "    <tr>\n",
       "      <th>98</th>\n",
       "      <td>risk_grade__c_0.0</td>\n",
       "      <td>0.000940</td>\n",
       "    </tr>\n",
       "    <tr>\n",
       "      <th>99</th>\n",
       "      <td>program_type_Iron Fuel Card Program Parent Secondary</td>\n",
       "      <td>0.000939</td>\n",
       "    </tr>\n",
       "  </tbody>\n",
       "</table>\n",
       "<p>100 rows × 2 columns</p>\n",
       "</div>"
      ],
      "text/plain": [
       "                                                variable  Importance\n",
       "0   sum_ttl_spend_12m                                     0.059755  \n",
       "1   sum_fuel_amt_12m                                      0.054981  \n",
       "2   total_spend                                           0.054007  \n",
       "3   nonfuel_to_ttl_card_spend                             0.052274  \n",
       "4   wex_tenure                                            0.044051  \n",
       "..         ...                                                 ...  \n",
       "95  program_type_New EFS Promotion 2021                   0.001029  \n",
       "96  has_security_deposit_Y                                0.001000  \n",
       "97  commercial__credit__score__class_1.0                  0.000969  \n",
       "98  risk_grade__c_0.0                                     0.000940  \n",
       "99  program_type_Iron Fuel Card Program Parent Secondary  0.000939  \n",
       "\n",
       "[100 rows x 2 columns]"
      ]
     },
     "execution_count": 94,
     "metadata": {},
     "output_type": "execute_result"
    }
   ],
   "source": [
    "importance_matrix_rf"
   ]
  },
  {
   "cell_type": "code",
   "execution_count": 115,
   "id": "f24fbe9c",
   "metadata": {},
   "outputs": [
    {
     "data": {
      "text/plain": [
       "57996"
      ]
     },
     "execution_count": 115,
     "metadata": {},
     "output_type": "execute_result"
    }
   ],
   "source": [
    "len(np.zeros(len(y_train)))"
   ]
  },
  {
   "cell_type": "code",
   "execution_count": 121,
   "id": "2c460392",
   "metadata": {},
   "outputs": [
    {
     "ename": "IndexError",
     "evalue": "too many indices for array: array is 1-dimensional, but 2 were indexed",
     "output_type": "error",
     "traceback": [
      "\u001b[1;31m---------------------------------------------------------------------------\u001b[0m",
      "\u001b[1;31mIndexError\u001b[0m                                Traceback (most recent call last)",
      "\u001b[1;32m~\\AppData\\Local\\Temp\\ipykernel_8776\\3602404663.py\u001b[0m in \u001b[0;36m<module>\u001b[1;34m\u001b[0m\n\u001b[0;32m      1\u001b[0m \u001b[0msample_weights\u001b[0m \u001b[1;33m=\u001b[0m \u001b[0mnp\u001b[0m\u001b[1;33m.\u001b[0m\u001b[0mzeros\u001b[0m\u001b[1;33m(\u001b[0m\u001b[0mlen\u001b[0m\u001b[1;33m(\u001b[0m\u001b[0my_train\u001b[0m\u001b[1;33m)\u001b[0m\u001b[1;33m)\u001b[0m\u001b[1;33m\u001b[0m\u001b[1;33m\u001b[0m\u001b[0m\n\u001b[1;32m----> 2\u001b[1;33m \u001b[0msample_weights\u001b[0m\u001b[1;33m[\u001b[0m\u001b[0my_train\u001b[0m \u001b[1;33m==\u001b[0m \u001b[1;36m0\u001b[0m\u001b[1;33m]\u001b[0m \u001b[1;33m=\u001b[0m \u001b[1;36m0.5\u001b[0m\u001b[1;33m\u001b[0m\u001b[1;33m\u001b[0m\u001b[0m\n\u001b[0m\u001b[0;32m      3\u001b[0m \u001b[0msample_weights\u001b[0m\u001b[1;33m[\u001b[0m\u001b[0my_train\u001b[0m \u001b[1;33m==\u001b[0m \u001b[1;36m1\u001b[0m\u001b[1;33m]\u001b[0m \u001b[1;33m=\u001b[0m \u001b[1;36m9.1\u001b[0m\u001b[1;33m\u001b[0m\u001b[1;33m\u001b[0m\u001b[0m\n",
      "\u001b[1;31mIndexError\u001b[0m: too many indices for array: array is 1-dimensional, but 2 were indexed"
     ]
    }
   ],
   "source": [
    "sample_weights = np.zeros(len(y_train))\n",
    "sample_weights[y_train == 0] = 0.5\n",
    "sample_weights[y_train == 1] = 9.1"
   ]
  },
  {
   "cell_type": "code",
   "execution_count": 128,
   "id": "cd463fc1",
   "metadata": {},
   "outputs": [
    {
     "data": {
      "text/plain": [
       "0    80811\n",
       "1    2041 \n",
       "Name: Event_Rate, dtype: int64"
      ]
     },
     "execution_count": 128,
     "metadata": {},
     "output_type": "execute_result"
    }
   ],
   "source": []
  },
  {
   "cell_type": "code",
   "execution_count": null,
   "id": "9c4fdf7b",
   "metadata": {},
   "outputs": [],
   "source": []
  }
 ],
 "metadata": {
  "kernelspec": {
   "display_name": "Python 3 (ipykernel)",
   "language": "python",
   "name": "python3"
  },
  "language_info": {
   "codemirror_mode": {
    "name": "ipython",
    "version": 3
   },
   "file_extension": ".py",
   "mimetype": "text/x-python",
   "name": "python",
   "nbconvert_exporter": "python",
   "pygments_lexer": "ipython3",
   "version": "3.9.13"
  },
  "widgets": {
   "application/vnd.jupyter.widget-state+json": {
    "state": {},
    "version_major": 2,
    "version_minor": 0
   }
  }
 },
 "nbformat": 4,
 "nbformat_minor": 5
}
